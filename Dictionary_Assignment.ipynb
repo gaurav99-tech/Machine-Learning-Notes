{
 "cells": [
  {
   "cell_type": "markdown",
   "id": "cf0205a6",
   "metadata": {},
   "source": [
    "1. Write a Python Program to sort (ascending and descending) a dictionary by value"
   ]
  },
  {
   "cell_type": "code",
   "execution_count": 1,
   "id": "280bc5d9",
   "metadata": {},
   "outputs": [
    {
     "name": "stdout",
     "output_type": "stream",
     "text": [
      "Ascending order:  [('a', 111), ('b', 77), ('c', 99), ('d', 55), ('e', 88)]\n",
      "\n",
      "Dictionary in ascending order:  {'a': 111, 'b': 77, 'c': 99, 'd': 55, 'e': 88}\n",
      "\n",
      "Descending order:  [('e', 88), ('d', 55), ('c', 99), ('b', 77), ('a', 111)]\n",
      "\n",
      "Dictionary in descending order:  {'e': 88, 'd': 55, 'c': 99, 'b': 77, 'a': 111}\n"
     ]
    }
   ],
   "source": [
    "d = {'a': 111, 'b': 77, 'c': 99, 'd': 55, 'e': 88}\n",
    "x = list(d.items())\n",
    "x.sort()\n",
    "print('Ascending order: ', x)\n",
    "print()\n",
    "Dict_Asc = dict(x)\n",
    "print('Dictionary in ascending order: ', Dict_Asc)\n",
    "print()\n",
    "\n",
    "y = list(d.items())\n",
    "y.sort(reverse=True)\n",
    "print('Descending order: ', y)\n",
    "print()\n",
    "Dict_Des = dict(y)\n",
    "print('Dictionary in descending order: ', Dict_Des)"
   ]
  },
  {
   "cell_type": "markdown",
   "id": "f89c03af",
   "metadata": {},
   "source": [
    "2. Write a Python Program to add a key to a dictionary. \n",
    "\n",
    "Sample Dictionary : {0: 10, 1: 20}\n",
    "Expected Result : {0: 10, 1: 20, 2: 30}\n"
   ]
  },
  {
   "cell_type": "code",
   "execution_count": 2,
   "id": "4ee3e5ca",
   "metadata": {},
   "outputs": [
    {
     "data": {
      "text/plain": [
       "{0: 10, 1: 20, 2: 30}"
      ]
     },
     "execution_count": 2,
     "metadata": {},
     "output_type": "execute_result"
    }
   ],
   "source": [
    "a = {0: 10, 1: 20}\n",
    "a[2] = 30\n",
    "a"
   ]
  },
  {
   "cell_type": "markdown",
   "id": "13b86e4d",
   "metadata": {},
   "source": [
    "3. Write a  program asks for City name and Temperature and builds a dictionary using that Later on you can input City name and it will tell you the Temperature of that City."
   ]
  },
  {
   "cell_type": "code",
   "execution_count": 4,
   "id": "891fb459",
   "metadata": {},
   "outputs": [
    {
     "name": "stdout",
     "output_type": "stream",
     "text": [
      "Enter the number of cities: 3\n",
      "Enter the city name: Charlotte\n",
      "Enter the temperature (in C): 2\n",
      "Enter the city name: Boston\n",
      "Enter the temperature (in C): -10\n",
      "Enter the city name: Tampa\n",
      "Enter the temperature (in C): 16\n",
      "Created dictionary:  {'Charlotte': 2.0, 'Boston': -10.0, 'Tampa': 16.0}\n",
      "Enter the city name to look for its temperature: Charlotte\n",
      "Temperature of Charlotte is:  2.0\n"
     ]
    }
   ],
   "source": [
    "my_dict = dict()\n",
    "n = int(input('Enter the number of cities: '))\n",
    "for i in range(0, n):\n",
    "    city = str(input('Enter the city name: '))\n",
    "    temp = float(input('Enter the temperature (in C): '))\n",
    "    my_dict[city] = temp\n",
    "print('Created dictionary: ', my_dict)\n",
    "\n",
    "z = str(input('Enter the city name to look for its temperature: '))\n",
    "if z in my_dict:\n",
    "    print(f'Temperature of {z} is: ', my_dict[z])\n",
    "else:\n",
    "    print('No result!')"
   ]
  },
  {
   "cell_type": "markdown",
   "id": "8973fe12",
   "metadata": {},
   "source": [
    "4. Write a Python program to convert list to list of dictionaries.\n",
    "\n",
    "Sample lists: [\"Black\", \"Red\", \"Maroon\", \"Yellow\"], [\"#000000\", \"#FF0000\", \"#800000\", \"#FFFF00\"]"
   ]
  },
  {
   "cell_type": "code",
   "execution_count": 5,
   "id": "87d6858e",
   "metadata": {},
   "outputs": [
    {
     "name": "stdout",
     "output_type": "stream",
     "text": [
      "[{'color_name': 'Black', 'color_code': '#000000'}, {'color_name': 'Red', 'color_code': '#FF0000'}, {'color_name': 'Maroon', 'color_code': '#800000'}, {'color_name': 'Yellow', 'color_code': '#FFFF00'}]\n"
     ]
    }
   ],
   "source": [
    "color_name = ['Black', 'Red', 'Maroon', 'Yellow']\n",
    "color_code = ['#000000', '#FF0000', '#800000', '#FFFF00']\n",
    "color_dict = [{'color_name': x, 'color_code': y} for x, y in zip(color_name, color_code)]\n",
    "print(color_dict)"
   ]
  },
  {
   "cell_type": "markdown",
   "id": "c74aa38b",
   "metadata": {},
   "source": [
    "5. We have following information on Employees and their Salary (Salary is in lakhs),\n",
    "\n",
    "Employee\tSalary\n",
    "John\t    14\n",
    "Smith\t    13\n",
    "Alice\t    32\n",
    "Daneil      21\n",
    "\n",
    "Using above create a dictionary of Employees and their Salary\n",
    "\n",
    "Write a program that asks user for three type of inputs,\n",
    "\n",
    "print: if user enter print then it should print all Employees with their Salary in this format,\n",
    "John ==>14\n",
    "Smith ==>13\n",
    "Alice ==>32\n",
    "Daneil ==>21\n",
    "\n",
    "add: if user input adds then it should further ask for an Employee name to add. If Employee already exists in our dataset then it should print that it exists and do nothing. If it doesn't then it asks for Salary and add that new Employee/Salary in our dictionary and print it\n",
    "\n",
    "remove: when user inputs remove it should ask for an Employee to remove. If an Employee exists in our dictionary then remove it and print a new dictionary using format shown above in (a). Else print that Employee doesn't exist!\n",
    "\n",
    "query: on this again ask the user for which Employee he or she wants to query. When a user inputs that Employee it will print the Salary of that Employee."
   ]
  },
  {
   "cell_type": "code",
   "execution_count": 6,
   "id": "71d94ce8",
   "metadata": {},
   "outputs": [
    {
     "name": "stdout",
     "output_type": "stream",
     "text": [
      "Enter the input (print/add/remove/query): add\n",
      "Enter the employee name to be added: Ibrahim\n",
      "Enter the salary: 7700000\n",
      "John ==> 1400000\n",
      "Smith ==> 1300000\n",
      "Alice ==> 3200000\n",
      "Daneil ==> 2100000\n",
      "Ibrahim ==> 7700000\n"
     ]
    }
   ],
   "source": [
    "emp = {'John': 1400000, 'Smith': 1300000, 'Alice': 3200000, 'Daneil': 2100000}\n",
    "n = str(input('Enter the input (print/add/remove/query): '))\n",
    "if n == 'print':\n",
    "    for i in emp.items():\n",
    "        print(i[0], '==>', i[1])\n",
    "elif n == 'add':\n",
    "    new = str(input('Enter the employee name to be added: '))\n",
    "    if new in emp.keys():\n",
    "        print('Employee already exists')\n",
    "    else:\n",
    "        salary = int(input('Enter the salary: '))\n",
    "        emp[new] = salary\n",
    "        for j in emp.items():\n",
    "            print(j[0], '==>', j[1])\n",
    "elif n == 'remove':\n",
    "    y = str(input('Enter the employee to be removed: '))\n",
    "    if y in emp:\n",
    "        del emp[y]\n",
    "        for k in emp.items():\n",
    "            print(k[0], '==>', k[1])\n",
    "    else:\n",
    "        print('Employee does not exist!')\n",
    "elif n == 'query':\n",
    "    q = str(input('Enter the employee to be queried: '))\n",
    "    if q in emp:\n",
    "        print('Salary: ', emp[q])\n",
    "    else:\n",
    "        print('Employee not present')\n",
    "else:\n",
    "    print('Enter valid input')"
   ]
  },
  {
   "cell_type": "markdown",
   "id": "b59f0734",
   "metadata": {},
   "source": [
    "6. What is the difference between a set and a frozenset? Create any set and try to use frozenset(setname)."
   ]
  },
  {
   "cell_type": "markdown",
   "id": "683f8ed1",
   "metadata": {},
   "source": [
    "Frozenset is an immutable version of set. In short, set is mutable while frozenset is immutable."
   ]
  },
  {
   "cell_type": "code",
   "execution_count": 7,
   "id": "cbee4ce8",
   "metadata": {},
   "outputs": [
    {
     "name": "stdout",
     "output_type": "stream",
     "text": [
      "frozenset({'c', 'b', 'a', 'd', 'e'})\n"
     ]
    }
   ],
   "source": [
    "f = ('a', 'b', 'c', 'd', 'e')\n",
    "f_set = frozenset(f)\n",
    "print(f_set)"
   ]
  },
  {
   "cell_type": "code",
   "execution_count": 8,
   "id": "e05dabcb",
   "metadata": {},
   "outputs": [
    {
     "ename": "AttributeError",
     "evalue": "'frozenset' object has no attribute 'add'",
     "output_type": "error",
     "traceback": [
      "\u001b[1;31m---------------------------------------------------------------------------\u001b[0m",
      "\u001b[1;31mAttributeError\u001b[0m                            Traceback (most recent call last)",
      "\u001b[1;32m<ipython-input-8-4e78102c4098>\u001b[0m in \u001b[0;36m<module>\u001b[1;34m\u001b[0m\n\u001b[1;32m----> 1\u001b[1;33m \u001b[0mf_set\u001b[0m\u001b[1;33m.\u001b[0m\u001b[0madd\u001b[0m\u001b[1;33m(\u001b[0m\u001b[1;34m'x'\u001b[0m\u001b[1;33m)\u001b[0m\u001b[1;33m\u001b[0m\u001b[1;33m\u001b[0m\u001b[0m\n\u001b[0m",
      "\u001b[1;31mAttributeError\u001b[0m: 'frozenset' object has no attribute 'add'"
     ]
    }
   ],
   "source": [
    "f_set.add('x')"
   ]
  },
  {
   "cell_type": "markdown",
   "id": "5f6ffcfe",
   "metadata": {},
   "source": [
    "7. Find the elements in a given set that are not in another set\n",
    "\n",
    "    set1 = {10,20,30,40,50}\n",
    "\n",
    "    set2 = {40,50,60,70,80}\n",
    "\n",
    " Difference between set1 and set2 is {10,20,30}"
   ]
  },
  {
   "cell_type": "code",
   "execution_count": 9,
   "id": "91b08a88",
   "metadata": {},
   "outputs": [
    {
     "name": "stdout",
     "output_type": "stream",
     "text": [
      "{10, 20, 30}\n"
     ]
    }
   ],
   "source": [
    "set1 = {10,20,30,40,50}\n",
    "set2 = {40,50,60,70,80}\n",
    "print(set1.difference(set2))"
   ]
  },
  {
   "cell_type": "code",
   "execution_count": null,
   "id": "3b0e10aa",
   "metadata": {},
   "outputs": [],
   "source": []
  }
 ],
 "metadata": {
  "kernelspec": {
   "display_name": "Python 3",
   "language": "python",
   "name": "python3"
  },
  "language_info": {
   "codemirror_mode": {
    "name": "ipython",
    "version": 3
   },
   "file_extension": ".py",
   "mimetype": "text/x-python",
   "name": "python",
   "nbconvert_exporter": "python",
   "pygments_lexer": "ipython3",
   "version": "3.8.8"
  }
 },
 "nbformat": 4,
 "nbformat_minor": 5
}
