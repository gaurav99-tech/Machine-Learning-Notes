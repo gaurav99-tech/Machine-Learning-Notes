{
 "cells": [
  {
   "cell_type": "markdown",
   "id": "9c3801e0",
   "metadata": {},
   "source": [
    "Is a list mutable?\n",
    "Yes, list is mutable"
   ]
  },
  {
   "cell_type": "code",
   "execution_count": 1,
   "id": "51473eee",
   "metadata": {},
   "outputs": [
    {
     "data": {
      "text/plain": [
       "[1, 2, 'z', 3, 'y']"
      ]
     },
     "execution_count": 1,
     "metadata": {},
     "output_type": "execute_result"
    }
   ],
   "source": [
    "a = [1, 2, 'x', 3, 'y']\n",
    "a[2] = 'z'\n",
    "a"
   ]
  },
  {
   "cell_type": "markdown",
   "id": "8fce043d",
   "metadata": {},
   "source": [
    "Does a list need to be homogeneous?\n",
    "No, list need not be homogeneous. It can contain different datatype in a single list. In the below example, it has integer, string/object and float datatypes."
   ]
  },
  {
   "cell_type": "code",
   "execution_count": 2,
   "id": "b62f5a48",
   "metadata": {},
   "outputs": [
    {
     "data": {
      "text/plain": [
       "[1, 'a', 2.33]"
      ]
     },
     "execution_count": 2,
     "metadata": {},
     "output_type": "execute_result"
    }
   ],
   "source": [
    "x = [1, 'a', 2.33]\n",
    "x"
   ]
  },
  {
   "cell_type": "markdown",
   "id": "fea997c8",
   "metadata": {},
   "source": [
    "What is the difference between a list and a tuple?\n",
    "•\tTuples is not mutable unlike lists.\n",
    "•\tTuples uses ‘() - parenthesis’ while lists use ‘[] – square brackets’."
   ]
  },
  {
   "cell_type": "code",
   "execution_count": 3,
   "id": "277c8d7f",
   "metadata": {},
   "outputs": [
    {
     "name": "stdout",
     "output_type": "stream",
     "text": [
      "List:  [77, 99, 'aa']\n"
     ]
    },
    {
     "ename": "TypeError",
     "evalue": "'tuple' object does not support item assignment",
     "output_type": "error",
     "traceback": [
      "\u001b[1;31m---------------------------------------------------------------------------\u001b[0m",
      "\u001b[1;31mTypeError\u001b[0m                                 Traceback (most recent call last)",
      "\u001b[1;32m<ipython-input-3-bdf7cb184c27>\u001b[0m in \u001b[0;36m<module>\u001b[1;34m\u001b[0m\n\u001b[0;32m      4\u001b[0m \u001b[1;33m\u001b[0m\u001b[0m\n\u001b[0;32m      5\u001b[0m \u001b[0mt\u001b[0m \u001b[1;33m=\u001b[0m \u001b[1;33m(\u001b[0m\u001b[1;36m77\u001b[0m\u001b[1;33m,\u001b[0m \u001b[1;36m88\u001b[0m\u001b[1;33m,\u001b[0m \u001b[1;34m'aa'\u001b[0m\u001b[1;33m)\u001b[0m\u001b[1;33m\u001b[0m\u001b[1;33m\u001b[0m\u001b[0m\n\u001b[1;32m----> 6\u001b[1;33m \u001b[0mt\u001b[0m\u001b[1;33m[\u001b[0m\u001b[1;36m1\u001b[0m\u001b[1;33m]\u001b[0m \u001b[1;33m=\u001b[0m \u001b[1;36m99\u001b[0m\u001b[1;33m\u001b[0m\u001b[1;33m\u001b[0m\u001b[0m\n\u001b[0m\u001b[0;32m      7\u001b[0m \u001b[0mprint\u001b[0m\u001b[1;33m(\u001b[0m\u001b[1;34m'Tuple: '\u001b[0m\u001b[1;33m,\u001b[0m \u001b[0mt\u001b[0m\u001b[1;33m)\u001b[0m\u001b[1;33m\u001b[0m\u001b[1;33m\u001b[0m\u001b[0m\n",
      "\u001b[1;31mTypeError\u001b[0m: 'tuple' object does not support item assignment"
     ]
    }
   ],
   "source": [
    "l = [77, 88, 'aa']\n",
    "l[1] = 99\n",
    "print('List: ', l)\n",
    "\n",
    "t = (77, 88, 'aa')\n",
    "t[1] = 99\n",
    "print('Tuple: ', t)"
   ]
  },
  {
   "cell_type": "markdown",
   "id": "d4b0545c",
   "metadata": {},
   "source": [
    "How to find the number of elements in the list?\n",
    "Use len() function to find the number of elements in the list."
   ]
  },
  {
   "cell_type": "code",
   "execution_count": 4,
   "id": "e38bde3a",
   "metadata": {},
   "outputs": [
    {
     "name": "stdout",
     "output_type": "stream",
     "text": [
      "5\n"
     ]
    }
   ],
   "source": [
    "y = [697, 578, 'Fruit', 455, 'Vegetable']\n",
    "print(len(y))"
   ]
  },
  {
   "cell_type": "markdown",
   "id": "4d8b4685",
   "metadata": {},
   "source": [
    "How to check whether the list is empty or not?\n",
    "Use if condition to check emptiness of the list by len() funtion."
   ]
  },
  {
   "cell_type": "code",
   "execution_count": 5,
   "id": "e0383b04",
   "metadata": {},
   "outputs": [
    {
     "name": "stdout",
     "output_type": "stream",
     "text": [
      "List is empty\n"
     ]
    }
   ],
   "source": [
    "z = []\n",
    "if len(z) == 0:\n",
    "    print('List is empty')\n",
    "else:\n",
    "    print('List is not empty')"
   ]
  },
  {
   "cell_type": "markdown",
   "id": "bbe254dc",
   "metadata": {},
   "source": [
    "How to find the first and last element of the list?\n",
    "Use integer indexing to get the elements of the list."
   ]
  },
  {
   "cell_type": "code",
   "execution_count": 6,
   "id": "d7cf5d0f",
   "metadata": {},
   "outputs": [
    {
     "name": "stdout",
     "output_type": "stream",
     "text": [
      "First element: 1000 \n",
      "Last element: 5000\n"
     ]
    }
   ],
   "source": [
    "l1 = [1000, 2000, 'Cricket', 'Football', 5000]\n",
    "print(f'First element: {l1[0]} \\nLast element: {l1[-1]}')"
   ]
  },
  {
   "cell_type": "markdown",
   "id": "6e0752b4",
   "metadata": {},
   "source": [
    "How to find the largest and lowest value in the list?\n",
    "Use min() and max() function to determine the lowest and largest of the list respectively."
   ]
  },
  {
   "cell_type": "code",
   "execution_count": 7,
   "id": "bd17d8dc",
   "metadata": {},
   "outputs": [
    {
     "name": "stdout",
     "output_type": "stream",
     "text": [
      "Maximum value: 999 \n",
      "Minimum value: 10.11\n"
     ]
    }
   ],
   "source": [
    "d = [10.11, 45, 999, 111, 65.47]\n",
    "print(f'Maximum value: {max(d)} \\nMinimum value: {min(d)}')"
   ]
  },
  {
   "cell_type": "markdown",
   "id": "e369e64d",
   "metadata": {},
   "source": [
    "How to access elements of the list?\n",
    "Use integer inndexing and slicing to access the elements of the list."
   ]
  },
  {
   "cell_type": "code",
   "execution_count": 8,
   "id": "e9641820",
   "metadata": {},
   "outputs": [
    {
     "name": "stdout",
     "output_type": "stream",
     "text": [
      "[98745, 'Milk'] Tea\n"
     ]
    }
   ],
   "source": [
    "e = [2365, 98745, 'Milk', 'Coffee', 'Tea']\n",
    "print(e[1:3], e[4])"
   ]
  },
  {
   "cell_type": "markdown",
   "id": "9bd1986b",
   "metadata": {},
   "source": [
    "Remove elements in a list before a specific index."
   ]
  },
  {
   "cell_type": "code",
   "execution_count": 9,
   "id": "83634b68",
   "metadata": {},
   "outputs": [
    {
     "data": {
      "text/plain": [
       "'a'"
      ]
     },
     "execution_count": 9,
     "metadata": {},
     "output_type": "execute_result"
    }
   ],
   "source": [
    "f = [852, 741, 963, 'a', 'b']\n",
    "f.pop(3)"
   ]
  },
  {
   "cell_type": "markdown",
   "id": "fdc2b8d4",
   "metadata": {},
   "source": [
    "Remove elements in a list between 2 indices"
   ]
  },
  {
   "cell_type": "code",
   "execution_count": 10,
   "id": "9e196b57",
   "metadata": {},
   "outputs": [
    {
     "name": "stdout",
     "output_type": "stream",
     "text": [
      "[147, 'c', 'd']\n"
     ]
    }
   ],
   "source": [
    "g = [147, 258, 369, 'c', 'd']\n",
    "del g[1:3]\n",
    "print(g)"
   ]
  },
  {
   "cell_type": "markdown",
   "id": "2ea77fb8",
   "metadata": {},
   "source": [
    "Return every 2nd element in a list between 2 indices"
   ]
  },
  {
   "cell_type": "code",
   "execution_count": 11,
   "id": "1851cc14",
   "metadata": {},
   "outputs": [
    {
     "data": {
      "text/plain": [
       "[0, 2, 4, 6, 8]"
      ]
     },
     "execution_count": 11,
     "metadata": {},
     "output_type": "execute_result"
    }
   ],
   "source": [
    "h = list(range(10))\n",
    "h[::2]"
   ]
  },
  {
   "cell_type": "markdown",
   "id": "b9b37ffa",
   "metadata": {},
   "source": [
    "Get the first element from each nested list in a list"
   ]
  },
  {
   "cell_type": "code",
   "execution_count": 12,
   "id": "a949cb63",
   "metadata": {},
   "outputs": [
    {
     "name": "stdout",
     "output_type": "stream",
     "text": [
      "[1, 3, 6]\n"
     ]
    }
   ],
   "source": [
    "m = [[1, 2], [3, 4, 5], [6, 7, 8, 9]]\n",
    "print(list(list(zip(*m))[0]))"
   ]
  },
  {
   "cell_type": "markdown",
   "id": "bb2826c2",
   "metadata": {},
   "source": [
    "How to modify elements of the list?\n",
    "We can modify the elements of the list by referring to the item's index."
   ]
  },
  {
   "cell_type": "code",
   "execution_count": 13,
   "id": "4e4252a5",
   "metadata": {},
   "outputs": [
    {
     "data": {
      "text/plain": [
       "['a', 'e', 'i', 'h', 'u']"
      ]
     },
     "execution_count": 13,
     "metadata": {},
     "output_type": "execute_result"
    }
   ],
   "source": [
    "vowels = ['a', 'e', 'i', 'o', 'u']\n",
    "vowels[3] = 'h'\n",
    "vowels"
   ]
  },
  {
   "cell_type": "markdown",
   "id": "17364976",
   "metadata": {},
   "source": [
    "How to concatenate two lists?\n",
    "We can '+' operator or extend function to concatenate two lists."
   ]
  },
  {
   "cell_type": "code",
   "execution_count": 14,
   "id": "e02fc312",
   "metadata": {},
   "outputs": [
    {
     "name": "stdout",
     "output_type": "stream",
     "text": [
      "New List using + operator:  [1, 2, 3, 4, 5, 6]\n",
      "New List using extend:  [1, 2, 3, 4, 5, 6]\n"
     ]
    }
   ],
   "source": [
    "r = [1, 2, 3]\n",
    "s = [4, 5, 6]\n",
    "print('New List using + operator: ', r+s)\n",
    "r.extend(s)\n",
    "print('New List using extend: ', r)"
   ]
  },
  {
   "cell_type": "markdown",
   "id": "0e514532",
   "metadata": {},
   "source": [
    "How to add two lists element-wise in python?\n",
    "We can use zip function for element wise seperation and add the elements."
   ]
  },
  {
   "cell_type": "code",
   "execution_count": 15,
   "id": "00db9400",
   "metadata": {},
   "outputs": [
    {
     "name": "stdout",
     "output_type": "stream",
     "text": [
      "[5, 7, 9]\n"
     ]
    }
   ],
   "source": [
    "r = [1, 2, 3]\n",
    "s = [4, 5, 6]\n",
    "t = []\n",
    "\n",
    "for i, j in zip(r,s):\n",
    "    t.append(i+j)\n",
    "print(t)"
   ]
  },
  {
   "cell_type": "markdown",
   "id": "afe3e9e2",
   "metadata": {},
   "source": [
    "Difference between del and clear.\n",
    "del method removes elements using slicing or indexing while clear method is used to empty the entire list."
   ]
  },
  {
   "cell_type": "code",
   "execution_count": 16,
   "id": "c0111c45",
   "metadata": {},
   "outputs": [
    {
     "name": "stdout",
     "output_type": "stream",
     "text": [
      "[9, 6, 5, 4]\n",
      "[]\n"
     ]
    }
   ],
   "source": [
    "u = [9, 8, 7, 6, 5, 4]\n",
    "del u[1:3]\n",
    "print(u)\n",
    "u.clear()\n",
    "print(u)"
   ]
  },
  {
   "cell_type": "markdown",
   "id": "665fc567",
   "metadata": {},
   "source": [
    "Difference between remove and pop.\n",
    "remove is a function that removes an item from the list while pop removes the element at an index."
   ]
  },
  {
   "cell_type": "code",
   "execution_count": 17,
   "id": "aa7d40ca",
   "metadata": {},
   "outputs": [
    {
     "name": "stdout",
     "output_type": "stream",
     "text": [
      "[11, 33, 44, 55, 66, 77]\n",
      "[11, 33, 44, 66, 77]\n"
     ]
    }
   ],
   "source": [
    "v = [11, 22, 33, 44, 55, 66, 77]\n",
    "v.remove(22)\n",
    "print(v)\n",
    "v.pop(3)\n",
    "print(v)"
   ]
  },
  {
   "cell_type": "markdown",
   "id": "c5787e74",
   "metadata": {},
   "source": [
    "Difference between append and extend.\n",
    "append method adds a list inside a list while extend method adds elements of a list to another list."
   ]
  },
  {
   "cell_type": "code",
   "execution_count": 21,
   "id": "4819300d",
   "metadata": {},
   "outputs": [
    {
     "name": "stdout",
     "output_type": "stream",
     "text": [
      "Appended List:  [1, 2, 3, [4, 5, 6]]\n"
     ]
    }
   ],
   "source": [
    "x = [1, 2, 3]\n",
    "y = [4, 5, 6]\n",
    "x.append(y)\n",
    "print('Appended List: ', x)"
   ]
  },
  {
   "cell_type": "code",
   "execution_count": 22,
   "id": "c4e77138",
   "metadata": {},
   "outputs": [
    {
     "name": "stdout",
     "output_type": "stream",
     "text": [
      "Extended List:  [1, 2, 3, 4, 5, 6]\n"
     ]
    }
   ],
   "source": [
    "x = [1, 2, 3]\n",
    "y = [4, 5, 6]\n",
    "x.extend(y)\n",
    "print('Extended List: ', x)"
   ]
  },
  {
   "cell_type": "markdown",
   "id": "cb9c8bab",
   "metadata": {},
   "source": [
    "Difference between indexing and Slicing.\n",
    "Indexing is the means of referring to an element using its position while slicing is the means of getting a subset of elements as a list using indices."
   ]
  },
  {
   "cell_type": "code",
   "execution_count": 23,
   "id": "ad9809f6",
   "metadata": {},
   "outputs": [
    {
     "name": "stdout",
     "output_type": "stream",
     "text": [
      "3 5\n",
      "[6, 7, 8]\n"
     ]
    }
   ],
   "source": [
    "list1 = [1, 2, 3, 4, 5, 6, 7, 8, 9]\n",
    "print(list1[2], list1[4])  #indexing\n",
    "print(list1[5:8])  #slicing"
   ]
  },
  {
   "cell_type": "markdown",
   "id": "15ccae4d",
   "metadata": {},
   "source": [
    "Difference between sort and sorted.\n",
    "list.sort() sorts the list and replaces the original list, whereas sorted(list) returns a sorted copy of the list, without changing the original list."
   ]
  },
  {
   "cell_type": "code",
   "execution_count": 24,
   "id": "334e3f19",
   "metadata": {},
   "outputs": [
    {
     "name": "stdout",
     "output_type": "stream",
     "text": [
      "['a', 'b', 'c', 'f', 'z']\n"
     ]
    }
   ],
   "source": [
    "list2 = ['c', 'a', 'b', 'z', 'f']\n",
    "list2.sort()\n",
    "print(list2)"
   ]
  },
  {
   "cell_type": "code",
   "execution_count": 25,
   "id": "7dc321a8",
   "metadata": {},
   "outputs": [
    {
     "name": "stdout",
     "output_type": "stream",
     "text": [
      "['a', 'b', 'c', 'f', 'z']\n"
     ]
    }
   ],
   "source": [
    "list3 = ['c', 'a', 'b', 'z', 'f']\n",
    "l3 = sorted(list3)\n",
    "print(l3)"
   ]
  },
  {
   "cell_type": "markdown",
   "id": "43099143",
   "metadata": {},
   "source": [
    "Difference between reverse and reversed.\n",
    "reverse() modifies the list itself, whereas reversed() returns an iterator ready to traverse the list in reversed order."
   ]
  },
  {
   "cell_type": "code",
   "execution_count": 26,
   "id": "c4745674",
   "metadata": {},
   "outputs": [
    {
     "name": "stdout",
     "output_type": "stream",
     "text": [
      "List:  [0, 1, 2, 3, 4, 5, 6, 7, 8, 9]\n",
      "Reversed:  [9, 8, 7, 6, 5, 4, 3, 2, 1, 0]\n",
      "Reverse:  [9, 8, 7, 6, 5, 4, 3, 2, 1, 0]\n"
     ]
    }
   ],
   "source": [
    "l4 = list(range(10))\n",
    "print('List: ', l4)\n",
    "rd = list(reversed(l4))\n",
    "l4.reverse()\n",
    "print('Reversed: ', rd)\n",
    "print('Reverse: ', l4)"
   ]
  },
  {
   "cell_type": "markdown",
   "id": "e3dba4e5",
   "metadata": {},
   "source": [
    "Difference between copy and deepcopy.\n",
    "A shallow copy means constructing a new collection object and then populating it with references to the child objects found in the original. In case of shallow copy, a reference of object is copied in other object. It means that any changes made to a copy of object do reflect in the original object.\n",
    "\n",
    "Deep copy is a process in which the copying process occurs recursively. In case of deep copy, a copy of object is copied in other object. It means that any changes made to a copy of object do not reflect in the original object. "
   ]
  },
  {
   "cell_type": "code",
   "execution_count": 27,
   "id": "c6a2d3b4",
   "metadata": {},
   "outputs": [
    {
     "name": "stdout",
     "output_type": "stream",
     "text": [
      "Original List before deepcopy:  [1, 2, 3, 4, 5]\n",
      "New List after deepcopy:  [1, 2, 3, 7, 5]\n",
      "Original List after deepcopy:  [1, 2, 3, 4, 5]\n"
     ]
    }
   ],
   "source": [
    "import copy\n",
    "l5 = [1, 2, 3, 4, 5]\n",
    "l6 = copy.deepcopy(l5)\n",
    "print('Original List before deepcopy: ', l5)\n",
    "l6[3] = 7\n",
    "print('New List after deepcopy: ', l6)\n",
    "print('Original List after deepcopy: ', l5)"
   ]
  },
  {
   "cell_type": "code",
   "execution_count": 41,
   "id": "f664eca1",
   "metadata": {},
   "outputs": [
    {
     "name": "stdout",
     "output_type": "stream",
     "text": [
      "Original List before copy:  [1, 2, 3, 4, 5]\n",
      "Original List after copy:  [1, 2, 3, 4, 5]\n"
     ]
    }
   ],
   "source": [
    "l7 = [1, 2, 3, 4, 5]\n",
    "l8 = copy.copy(l7)\n",
    "print('Original List before copy: ', l7)\n",
    "l8[3] = 7\n",
    "print('Original List after copy: ', l7)"
   ]
  },
  {
   "cell_type": "markdown",
   "id": "ac235e3f",
   "metadata": {},
   "source": [
    "How to remove duplicate elements in the list?\n",
    "We can use set() since set always returns unique values."
   ]
  },
  {
   "cell_type": "code",
   "execution_count": 29,
   "id": "b5b5078f",
   "metadata": {},
   "outputs": [
    {
     "name": "stdout",
     "output_type": "stream",
     "text": [
      "Original List:  [1, 3, 5, 5, 3, 6, 7, 7, 9, 10]\n",
      "New List:  [1, 3, 5, 6, 7, 9, 10]\n"
     ]
    }
   ],
   "source": [
    "l9 = [1, 3, 5, 5, 3, 6, 7, 7, 9, 10]\n",
    "print('Original List: ', l9)\n",
    "l9_new = list(set(l9))\n",
    "print('New List: ', l9_new)"
   ]
  },
  {
   "cell_type": "markdown",
   "id": "99ba6d9f",
   "metadata": {},
   "source": [
    "How to find an index of an element in the python list?\n",
    "The index() method returns the index of the specified element in the list."
   ]
  },
  {
   "cell_type": "code",
   "execution_count": 30,
   "id": "03442cfb",
   "metadata": {},
   "outputs": [
    {
     "name": "stdout",
     "output_type": "stream",
     "text": [
      "1\n"
     ]
    }
   ],
   "source": [
    "fruits = ['Apple', 'Orange', 'Banana', 'Grapes', 'Pineapple']\n",
    "index = fruits.index('Orange')\n",
    "print(index)"
   ]
  },
  {
   "cell_type": "markdown",
   "id": "20783e21",
   "metadata": {},
   "source": [
    "How to find the occurrences of an element in the python list?\n",
    "We can count() method to find the occurrences of an elements."
   ]
  },
  {
   "cell_type": "code",
   "execution_count": 31,
   "id": "62c16c11",
   "metadata": {},
   "outputs": [
    {
     "name": "stdout",
     "output_type": "stream",
     "text": [
      "5 has occurred 2 times\n"
     ]
    }
   ],
   "source": [
    "l10 = [1, 3, 5, 5, 3, 6, 7, 7, 9, 10]\n",
    "x = 5\n",
    "print('{} has occurred {} times'.format(x, l10.count(x)))"
   ]
  },
  {
   "cell_type": "markdown",
   "id": "0b4e8158",
   "metadata": {},
   "source": [
    "How to insert an item at a given position?\n",
    "We can use insert() method to insert an element at a given position."
   ]
  },
  {
   "cell_type": "code",
   "execution_count": 32,
   "id": "527f3cc0",
   "metadata": {},
   "outputs": [
    {
     "name": "stdout",
     "output_type": "stream",
     "text": [
      "[1, 2, 3, 4.5, 'bbb', 99, 'a']\n"
     ]
    }
   ],
   "source": [
    "l11 = [1, 2, 3, 4.5, 99, 'a']\n",
    "l11.insert(4, 'bbb')\n",
    "print(l11)"
   ]
  },
  {
   "cell_type": "markdown",
   "id": "98552c42",
   "metadata": {},
   "source": [
    "How to check if an item is in the list?\n",
    "Use in operator to check for an element in the list."
   ]
  },
  {
   "cell_type": "code",
   "execution_count": 33,
   "id": "b15940eb",
   "metadata": {},
   "outputs": [
    {
     "name": "stdout",
     "output_type": "stream",
     "text": [
      "Element exists in the list\n"
     ]
    }
   ],
   "source": [
    "l12 = ['a', 7.7, 8.9, 2, 6]\n",
    "if 8.9 in l12:\n",
    "    print('Element exists in the list')\n",
    "else:\n",
    "    print('Element not found')"
   ]
  },
  {
   "cell_type": "markdown",
   "id": "20ff8512",
   "metadata": {},
   "source": [
    "How to flatten a list in python?\n",
    "We can sum() method by passing the list with lists and an empty list to get a flattened list."
   ]
  },
  {
   "cell_type": "code",
   "execution_count": 34,
   "id": "ecce2d85",
   "metadata": {},
   "outputs": [
    {
     "name": "stdout",
     "output_type": "stream",
     "text": [
      "Original List:  [[1, 2, 3], [4, 5, 6], [7], [8, 9]]\n",
      "Flattened List:  [1, 2, 3, 4, 5, 6, 7, 8, 9]\n"
     ]
    }
   ],
   "source": [
    "li1 = [[1, 2, 3], [4, 5, 6], [7], [8, 9]] \n",
    "x = sum(li1, [])\n",
    "print('Original List: ', li1)\n",
    "print('Flattened List: ', x)"
   ]
  },
  {
   "cell_type": "markdown",
   "id": "220ac80f",
   "metadata": {},
   "source": [
    "How to convert python list to other data structures like set, tuple, dictionary?\n",
    "We can use the keywords of tuple and set data structures by passing the list into it for the resultant respective data structure. To convert list into dictionary, we can dictionary comprehension."
   ]
  },
  {
   "cell_type": "code",
   "execution_count": 35,
   "id": "1886ede7",
   "metadata": {},
   "outputs": [
    {
     "name": "stdout",
     "output_type": "stream",
     "text": [
      "Tuple:  ('a', 1, 'b', 2, 'c', 3)\n",
      "Set:  {1, 2, 3, 'b', 'c', 'a'}\n",
      "Dictionary:  {'a': 1, 'b': 2, 'c': 3}\n"
     ]
    }
   ],
   "source": [
    "lst = ['a', 1, 'b', 2, 'c', 3]\n",
    "tup = tuple(lst)\n",
    "print('Tuple: ', tup)\n",
    "set_l = set(lst)\n",
    "print('Set: ', set_l)\n",
    "dict_l = {lst[i]: lst[i + 1] for i in range(0, len(lst), 2)}\n",
    "print('Dictionary: ', dict_l)"
   ]
  },
  {
   "cell_type": "markdown",
   "id": "a248eb5d",
   "metadata": {},
   "source": [
    "How to apply a function to all items in the list?\n",
    "We can use map function to apply function across all elements in the list."
   ]
  },
  {
   "cell_type": "code",
   "execution_count": 36,
   "id": "c984ea6f",
   "metadata": {},
   "outputs": [
    {
     "name": "stdout",
     "output_type": "stream",
     "text": [
      "[7744, 9801, 1936, 5929, 3025]\n"
     ]
    }
   ],
   "source": [
    "def square(i):\n",
    "    return i*i\n",
    "\n",
    "li2 = [88, 99, 44, 77, 55]\n",
    "li3 = list(map(square, li2))\n",
    "print(li3)"
   ]
  },
  {
   "cell_type": "markdown",
   "id": "6e314496",
   "metadata": {},
   "source": [
    "How to filter the elements based on a function in a python list?\n",
    "We can use built-in filter() function to filter the elements based on a function in a list."
   ]
  },
  {
   "cell_type": "code",
   "execution_count": 37,
   "id": "66ba92aa",
   "metadata": {},
   "outputs": [
    {
     "name": "stdout",
     "output_type": "stream",
     "text": [
      "[70, 77, 88, 90, 75]\n"
     ]
    }
   ],
   "source": [
    "score = [70, 77, 88, 90, 26, 75, 45, 35, 50]\n",
    "filtered_score = list(filter(lambda score : score>50, score))\n",
    "print(filtered_score)"
   ]
  },
  {
   "cell_type": "markdown",
   "id": "c6307c9e",
   "metadata": {},
   "source": [
    "How python lists are stored in memory?\n",
    "The elements in the list are not stored themselves. Instead, every element of the list is stored at random locations, and the list stores the address of those random locations. We can reference to these addresses to perform operations."
   ]
  },
  {
   "cell_type": "code",
   "execution_count": null,
   "id": "286099a8",
   "metadata": {},
   "outputs": [],
   "source": []
  }
 ],
 "metadata": {
  "kernelspec": {
   "display_name": "Python 3",
   "language": "python",
   "name": "python3"
  },
  "language_info": {
   "codemirror_mode": {
    "name": "ipython",
    "version": 3
   },
   "file_extension": ".py",
   "mimetype": "text/x-python",
   "name": "python",
   "nbconvert_exporter": "python",
   "pygments_lexer": "ipython3",
   "version": "3.8.8"
  }
 },
 "nbformat": 4,
 "nbformat_minor": 5
}
